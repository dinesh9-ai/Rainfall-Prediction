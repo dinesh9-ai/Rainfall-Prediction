{
 "cells": [
  {
   "cell_type": "code",
   "execution_count": 69,
   "metadata": {},
   "outputs": [],
   "source": [
    "from sklearn.tree import DecisionTreeRegressor\n",
    "import matplotlib.pyplot as plt\n",
    "import os\n",
    "import pandas as pd\n",
    "from sklearn.metrics import *"
   ]
  },
  {
   "cell_type": "code",
   "execution_count": 70,
   "metadata": {},
   "outputs": [],
   "source": [
    "d=pd.read_csv('train_data.csv')"
   ]
  },
  {
   "cell_type": "code",
   "execution_count": 71,
   "metadata": {},
   "outputs": [
    {
     "name": "stdout",
     "output_type": "stream",
     "text": [
      "       r  tmin  tmax   hmin   hmax  wmin  wmax  date  month\n",
      "0    0.0   9.8  28.6  18.60   73.2   0.0   8.1     1      1\n",
      "1    0.0  14.5  29.7  18.50   63.4   0.0   5.2     2      1\n",
      "2    0.0  12.3  30.1  25.10   83.2   0.0   9.1     3      1\n",
      "3    0.0  13.9  31.8  21.60   83.1   0.0   7.1     4      1\n",
      "4    0.0  15.1  30.7  32.30   89.0   0.0   0.1     5      1\n",
      "..   ...   ...   ...    ...    ...   ...   ...   ...    ...\n",
      "339  0.0  19.6  27.2  74.20  100.0   0.0  11.0    27     12\n",
      "340  0.0  18.9  28.3  74.60   95.4   0.0  10.5    28     12\n",
      "341  0.0  16.9  27.1  72.40   88.0   0.0  10.5    29     12\n",
      "342  0.0  16.0  27.0  69.75   98.6   0.0   8.6    30     12\n",
      "343  0.0  19.9  26.5  61.80   94.4   0.0  10.9    31     12\n",
      "\n",
      "[344 rows x 9 columns]\n"
     ]
    }
   ],
   "source": [
    "print(d)"
   ]
  },
  {
   "cell_type": "code",
   "execution_count": 72,
   "metadata": {},
   "outputs": [
    {
     "data": {
      "text/plain": [
       "0      0.0\n",
       "1      0.0\n",
       "2      0.0\n",
       "3      0.0\n",
       "4      0.0\n",
       "      ... \n",
       "339    0.0\n",
       "340    0.0\n",
       "341    0.0\n",
       "342    0.0\n",
       "343    0.0\n",
       "Name: r, Length: 344, dtype: float64"
      ]
     },
     "execution_count": 72,
     "metadata": {},
     "output_type": "execute_result"
    }
   ],
   "source": [
    "d['r']"
   ]
  },
  {
   "cell_type": "markdown",
   "metadata": {},
   "source": [
    "### TRAINING"
   ]
  },
  {
   "cell_type": "code",
   "execution_count": 73,
   "metadata": {},
   "outputs": [],
   "source": [
    "x1=[]\n",
    "y1=[]\n",
    "t1=[]\n",
    "for i in range(2,344):\n",
    "    x1.append([d['r'][i-2], d['tmin'][i-2], d['tmax'][i-2], d['hmin'][i-2], d['hmax'][i-2], d['wmin'][i-2], d['wmax'][i-2],\n",
    "             d['r'][i-1], d['tmin'][i-1], d['tmax'][i-1], d['hmin'][i-1], d['hmax'][i-1], d['wmin'][i-1], d['wmax'][i-1],\n",
    "              d['hmax'][i-2]-d['hmax'][i-1],\n",
    "               d['hmin'][i-2]-d['hmin'][i-1],\n",
    "              d['tmax'][i-2]-d['tmax'][i-1],\n",
    "               d['tmin'][i-2]-d['tmin'][i-1],\n",
    "               \n",
    "               \n",
    "              d['date'][i],d['month'][i],2019])\n",
    "    y1.append(d['r'][i])\n",
    "    t1.append(i)"
   ]
  },
  {
   "cell_type": "code",
   "execution_count": 74,
   "metadata": {},
   "outputs": [
    {
     "data": {
      "text/plain": [
       "DecisionTreeRegressor(ccp_alpha=0.0, criterion='mse', max_depth=7,\n",
       "                      max_features=None, max_leaf_nodes=None,\n",
       "                      min_impurity_decrease=0.0, min_impurity_split=None,\n",
       "                      min_samples_leaf=1, min_samples_split=2,\n",
       "                      min_weight_fraction_leaf=0.0, presort='deprecated',\n",
       "                      random_state=1, splitter='best')"
      ]
     },
     "execution_count": 74,
     "metadata": {},
     "output_type": "execute_result"
    }
   ],
   "source": [
    "reg=DecisionTreeRegressor(max_depth=7,random_state=1)\n",
    "reg.fit(x1,y1)"
   ]
  },
  {
   "cell_type": "code",
   "execution_count": 75,
   "metadata": {},
   "outputs": [],
   "source": [
    "yp=[]\n",
    "s=0\n",
    "q=0\n",
    "for i in x1:\n",
    "    yp.append(reg.predict([i]))\n",
    "    s=y1[q]-reg.predict([i])\n",
    "    q=q+1"
   ]
  },
  {
   "cell_type": "code",
   "execution_count": 76,
   "metadata": {},
   "outputs": [
    {
     "data": {
      "text/plain": [
       "[<matplotlib.lines.Line2D at 0xd2e5b88>]"
      ]
     },
     "execution_count": 76,
     "metadata": {},
     "output_type": "execute_result"
    },
    {
     "data": {
      "image/png": "[encoded data removed]",
      "text/plain": [
       "<Figure size 432x288 with 1 Axes>"
      ]
     },
     "metadata": {
      "needs_background": "light"
     },
     "output_type": "display_data"
    }
   ],
   "source": [
    "plt.plot(t1,y1)\n",
    "plt.plot(t1,yp)"
   ]
  },
  {
   "cell_type": "code",
   "execution_count": 80,
   "metadata": {},
   "outputs": [
    {
     "name": "stdout",
     "output_type": "stream",
     "text": [
      "the mean absolute training  error is :  0.4573726787503017\n"
     ]
    }
   ],
   "source": [
    "print('the mean absolute training  error is : ',mean_absolute_error(y1,yp))"
   ]
  },
  {
   "cell_type": "code",
   "execution_count": 78,
   "metadata": {},
   "outputs": [],
   "source": [
    "d1=pd.read_csv('val_data.csv')\n",
    "d=d1"
   ]
  },
  {
   "cell_type": "code",
   "execution_count": 65,
   "metadata": {},
   "outputs": [],
   "source": [
    "xv=[]\n",
    "yv=[]\n",
    "tv=[]\n",
    "for i in range(2,199):\n",
    "    xv.append([d['r'][i-2], d['tmin'][i-2], d['tmax'][i-2], d['hmin'][i-2], d['hmax'][i-2], d['wmin'][i-2], d['wmax'][i-2],\n",
    "             d['r'][i-1], d['tmin'][i-1], d['tmax'][i-1], d['hmin'][i-1], d['hmax'][i-1], d['wmin'][i-1], d['wmax'][i-1],\n",
    "              d['hmax'][i-2]-d['hmax'][i-1],\n",
    "               d['hmin'][i-2]-d['hmin'][i-1],\n",
    "              d['tmax'][i-2]-d['tmax'][i-1],\n",
    "               d['tmin'][i-2]-d['tmin'][i-1],\n",
    "               \n",
    "               \n",
    "              d['date'][i],d['month'][i],2019])\n",
    "    yv.append(d['r'][i])\n",
    "    tv.append(i)"
   ]
  },
  {
   "cell_type": "code",
   "execution_count": 66,
   "metadata": {},
   "outputs": [],
   "source": [
    "ypv=[]\n",
    "for i in xv:\n",
    "    ypv.append(reg.predict([i]))"
   ]
  },
  {
   "cell_type": "code",
   "execution_count": 67,
   "metadata": {},
   "outputs": [
    {
     "data": {
      "text/plain": [
       "[<matplotlib.lines.Line2D at 0xd1e6fc8>]"
      ]
     },
     "execution_count": 67,
     "metadata": {},
     "output_type": "execute_result"
    },
    {
     "data": {
      "image/png": "[encoded data removed]",
      "text/plain": [
       "<Figure size 432x288 with 2 Axes>"
      ]
     },
     "metadata": {
      "needs_background": "light"
     },
     "output_type": "display_data"
    }
   ],
   "source": [
    "plt.subplot(3,1,1)\n",
    "plt.plot(tv,yv,color='green')\n",
    "plt.subplot(3,1,2)\n",
    "plt.plot(tv,ypv,color='red')"
   ]
  },
  {
   "cell_type": "code",
   "execution_count": 68,
   "metadata": {},
   "outputs": [
    {
     "data": {
      "text/plain": [
       "[<matplotlib.lines.Line2D at 0xd14c548>]"
      ]
     },
     "execution_count": 68,
     "metadata": {},
     "output_type": "execute_result"
    },
    {
     "data": {
      "image/png": "[encoded data removed]",
      "text/plain": [
       "<Figure size 432x288 with 1 Axes>"
      ]
     },
     "metadata": {
      "needs_background": "light"
     },
     "output_type": "display_data"
    }
   ],
   "source": [
    "plt.plot(tv,yv,color='green')\n",
    "plt.plot(tv,ypv,color='red')"
   ]
  },
  {
   "cell_type": "code",
   "execution_count": 82,
   "metadata": {},
   "outputs": [
    {
     "name": "stdout",
     "output_type": "stream",
     "text": [
      "the mean absolute test error is :  6.9232017114691775\n"
     ]
    }
   ],
   "source": [
    "print('the mean absolute test error is : ',mean_absolute_error(yv,ypv))"
   ]
  },
  {
   "cell_type": "code",
   "execution_count": null,
   "metadata": {},
   "outputs": [],
   "source": []
  }
 ],
 "metadata": {
  "kernelspec": {
   "display_name": "Python 3",
   "language": "python",
   "name": "python3"
  },
  "language_info": {
   "codemirror_mode": {
    "name": "ipython",
    "version": 3
   },
   "file_extension": ".py",
   "mimetype": "text/x-python",
   "name": "python",
   "nbconvert_exporter": "python",
   "pygments_lexer": "ipython3",
   "version": "3.7.6"
  }
 },
 "nbformat": 4,
 "nbformat_minor": 4
}
