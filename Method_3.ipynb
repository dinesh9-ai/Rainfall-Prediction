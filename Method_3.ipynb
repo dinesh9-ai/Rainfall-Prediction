{
 "cells": [
  {
   "cell_type": "code",
   "execution_count": 1,
   "metadata": {},
   "outputs": [],
   "source": [
    "from sklearn.ensemble import RandomForestRegressor\n",
    "import matplotlib.pyplot as plt\n",
    "import os\n",
    "import pandas as pd\n",
    "from sklearn.metrics import *"
   ]
  },
  {
   "cell_type": "code",
   "execution_count": 2,
   "metadata": {},
   "outputs": [],
   "source": [
    "d=pd.read_csv('train_data.csv')"
   ]
  },
  {
   "cell_type": "code",
   "execution_count": 3,
   "metadata": {},
   "outputs": [
    {
     "name": "stdout",
     "output_type": "stream",
     "text": [
      "       r  tmin  tmax   hmin   hmax  wmin  wmax  date  month\n",
      "0    0.0   9.8  28.6  18.60   73.2   0.0   8.1     1      1\n",
      "1    0.0  14.5  29.7  18.50   63.4   0.0   5.2     2      1\n",
      "2    0.0  12.3  30.1  25.10   83.2   0.0   9.1     3      1\n",
      "3    0.0  13.9  31.8  21.60   83.1   0.0   7.1     4      1\n",
      "4    0.0  15.1  30.7  32.30   89.0   0.0   0.1     5      1\n",
      "..   ...   ...   ...    ...    ...   ...   ...   ...    ...\n",
      "339  0.0  19.6  27.2  74.20  100.0   0.0  11.0    27     12\n",
      "340  0.0  18.9  28.3  74.60   95.4   0.0  10.5    28     12\n",
      "341  0.0  16.9  27.1  72.40   88.0   0.0  10.5    29     12\n",
      "342  0.0  16.0  27.0  69.75   98.6   0.0   8.6    30     12\n",
      "343  0.0  19.9  26.5  61.80   94.4   0.0  10.9    31     12\n",
      "\n",
      "[344 rows x 9 columns]\n"
     ]
    }
   ],
   "source": [
    "print(d)"
   ]
  },
  {
   "cell_type": "code",
   "execution_count": 4,
   "metadata": {},
   "outputs": [
    {
     "data": {
      "text/plain": [
       "0      0.0\n",
       "1      0.0\n",
       "2      0.0\n",
       "3      0.0\n",
       "4      0.0\n",
       "      ... \n",
       "339    0.0\n",
       "340    0.0\n",
       "341    0.0\n",
       "342    0.0\n",
       "343    0.0\n",
       "Name: r, Length: 344, dtype: float64"
      ]
     },
     "execution_count": 4,
     "metadata": {},
     "output_type": "execute_result"
    }
   ],
   "source": [
    "d['r']"
   ]
  },
  {
   "cell_type": "markdown",
   "metadata": {},
   "source": [
    "### TRAINING"
   ]
  },
  {
   "cell_type": "code",
   "execution_count": 5,
   "metadata": {},
   "outputs": [],
   "source": [
    "x1=[]\n",
    "y1=[]\n",
    "t1=[]\n",
    "for i in range(2,344):\n",
    "    x1.append([d['r'][i-2], d['tmin'][i-2], d['tmax'][i-2], d['hmin'][i-2], d['hmax'][i-2], d['wmin'][i-2], d['wmax'][i-2],\n",
    "             d['r'][i-1], d['tmin'][i-1], d['tmax'][i-1], d['hmin'][i-1], d['hmax'][i-1], d['wmin'][i-1], d['wmax'][i-1],\n",
    "              d['hmax'][i-2]-d['hmax'][i-1],\n",
    "               d['hmin'][i-2]-d['hmin'][i-1],\n",
    "              d['tmax'][i-2]-d['tmax'][i-1],\n",
    "               d['tmin'][i-2]-d['tmin'][i-1],\n",
    "               \n",
    "               \n",
    "              d['date'][i],d['month'][i],2019])\n",
    "    y1.append(d['r'][i])\n",
    "    t1.append(i)"
   ]
  },
  {
   "cell_type": "code",
   "execution_count": 11,
   "metadata": {},
   "outputs": [
    {
     "data": {
      "text/plain": [
       "RandomForestRegressor(bootstrap=True, ccp_alpha=0.0, criterion='mse',\n",
       "                      max_depth=19, max_features='log2', max_leaf_nodes=None,\n",
       "                      max_samples=None, min_impurity_decrease=0.0,\n",
       "                      min_impurity_split=None, min_samples_leaf=1,\n",
       "                      min_samples_split=2, min_weight_fraction_leaf=0.0,\n",
       "                      n_estimators=160, n_jobs=None, oob_score=True,\n",
       "                      random_state=243, verbose=0, warm_start=False)"
      ]
     },
     "execution_count": 11,
     "metadata": {},
     "output_type": "execute_result"
    }
   ],
   "source": [
    "reg=RandomForestRegressor(max_depth=19,random_state=243,max_features='log2',oob_score=True,n_estimators=160,\n",
    "                          )\n",
    "reg.fit(x1,y1)"
   ]
  },
  {
   "cell_type": "code",
   "execution_count": 12,
   "metadata": {},
   "outputs": [],
   "source": [
    "yp=[]\n",
    "s=0\n",
    "q=0\n",
    "for i in x1:\n",
    "    yp.append(reg.predict([i]))\n",
    "    s=y1[q]-reg.predict([i])\n",
    "    q=q+1"
   ]
  },
  {
   "cell_type": "code",
   "execution_count": 13,
   "metadata": {},
   "outputs": [
    {
     "data": {
      "text/plain": [
       "[<matplotlib.lines.Line2D at 0xba3cf08>]"
      ]
     },
     "execution_count": 13,
     "metadata": {},
     "output_type": "execute_result"
    },
    {
     "data": {
      "image/png": "[encoded data removed]",
      "text/plain": [
       "<Figure size 432x288 with 1 Axes>"
      ]
     },
     "metadata": {
      "needs_background": "light"
     },
     "output_type": "display_data"
    }
   ],
   "source": [
    "plt.plot(t1,y1)\n",
    "plt.plot(t1,yp)"
   ]
  },
  {
   "cell_type": "code",
   "execution_count": 14,
   "metadata": {},
   "outputs": [
    {
     "name": "stdout",
     "output_type": "stream",
     "text": [
      "train data score is:  0.8571617001356227\n",
      "the mean absolute training  error is :  1.0298625430368848\n"
     ]
    }
   ],
   "source": [
    "print('train data score is: ',reg.score(x1,y1))\n",
    "print('the mean absolute training  error is : ',mean_absolute_error(y1,yp))"
   ]
  },
  {
   "cell_type": "code",
   "execution_count": 15,
   "metadata": {},
   "outputs": [],
   "source": [
    "d1=pd.read_csv('val_data.csv')\n",
    "d=d1"
   ]
  },
  {
   "cell_type": "code",
   "execution_count": 16,
   "metadata": {},
   "outputs": [],
   "source": [
    "xv=[]\n",
    "yv=[]\n",
    "tv=[]\n",
    "for i in range(3,140):\n",
    "    xv.append([d['r'][i-2], d['tmin'][i-2], d['tmax'][i-2], d['hmin'][i-2], d['hmax'][i-2], d['wmin'][i-2], d['wmax'][i-2],\n",
    "             d['r'][i-1], d['tmin'][i-1], d['tmax'][i-1], d['hmin'][i-1], d['hmax'][i-1], d['wmin'][i-1], d['wmax'][i-1],\n",
    "              d['hmax'][i-2]-d['hmax'][i-1],\n",
    "               d['hmin'][i-2]-d['hmin'][i-1],\n",
    "              d['tmax'][i-2]-d['tmax'][i-1],\n",
    "               d['tmin'][i-2]-d['tmin'][i-1],\n",
    "               \n",
    "               \n",
    "              d['date'][i],d['month'][i],2019])\n",
    "    yv.append(d['r'][i])\n",
    "    tv.append(i)"
   ]
  },
  {
   "cell_type": "code",
   "execution_count": 17,
   "metadata": {},
   "outputs": [],
   "source": [
    "ypv=[]\n",
    "for i in xv:\n",
    "    ypv.append(reg.predict([i]))"
   ]
  },
  {
   "cell_type": "code",
   "execution_count": 18,
   "metadata": {},
   "outputs": [
    {
     "data": {
      "text/plain": [
       "[<matplotlib.lines.Line2D at 0xbcd6888>]"
      ]
     },
     "execution_count": 18,
     "metadata": {},
     "output_type": "execute_result"
    },
    {
     "data": {
      "image/png": "[encoded data removed]",
      "text/plain": [
       "<Figure size 432x288 with 1 Axes>"
      ]
     },
     "metadata": {
      "needs_background": "light"
     },
     "output_type": "display_data"
    }
   ],
   "source": [
    "plt.plot(tv,yv,color='red')\n",
    "plt.plot(tv,ypv,color='green')"
   ]
  },
  {
   "cell_type": "code",
   "execution_count": 19,
   "metadata": {},
   "outputs": [
    {
     "name": "stdout",
     "output_type": "stream",
     "text": [
      "test data score is:  0.052343928319775745\n",
      "the mean absolute test  error is :  4.829886659872973\n"
     ]
    }
   ],
   "source": [
    "print('test data score is: ',reg.score(xv,yv))\n",
    "print('the mean absolute test  error is : ',mean_absolute_error(yv,ypv))"
   ]
  },
  {
   "cell_type": "code",
   "execution_count": null,
   "metadata": {},
   "outputs": [],
   "source": []
  }
 ],
 "metadata": {
  "kernelspec": {
   "display_name": "Python 3",
   "language": "python",
   "name": "python3"
  },
  "language_info": {
   "codemirror_mode": {
    "name": "ipython",
    "version": 3
   },
   "file_extension": ".py",
   "mimetype": "text/x-python",
   "name": "python",
   "nbconvert_exporter": "python",
   "pygments_lexer": "ipython3",
   "version": "3.7.6"
  }
 },
 "nbformat": 4,
 "nbformat_minor": 4
}
